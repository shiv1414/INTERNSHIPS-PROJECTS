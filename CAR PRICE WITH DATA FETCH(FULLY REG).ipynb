{
 "cells": [
  {
   "cell_type": "code",
   "execution_count": 2,
   "id": "37ea72f5",
   "metadata": {},
   "outputs": [],
   "source": [
    "import pandas as pd\n",
    "import numpy as np\n",
    "import seaborn as sns\n",
    "import matplotlib.pyplot as plt\n",
    "\n",
    "import warnings\n",
    "warnings.filterwarnings('ignore')"
   ]
  },
  {
   "cell_type": "code",
   "execution_count": 3,
   "id": "60046ce3",
   "metadata": {},
   "outputs": [
    {
     "data": {
      "text/html": [
       "<div>\n",
       "<style scoped>\n",
       "    .dataframe tbody tr th:only-of-type {\n",
       "        vertical-align: middle;\n",
       "    }\n",
       "\n",
       "    .dataframe tbody tr th {\n",
       "        vertical-align: top;\n",
       "    }\n",
       "\n",
       "    .dataframe thead th {\n",
       "        text-align: right;\n",
       "    }\n",
       "</style>\n",
       "<table border=\"1\" class=\"dataframe\">\n",
       "  <thead>\n",
       "    <tr style=\"text-align: right;\">\n",
       "      <th></th>\n",
       "      <th>Unnamed: 0</th>\n",
       "      <th>CARS NAME</th>\n",
       "      <th>MODEL</th>\n",
       "      <th>PRICE</th>\n",
       "      <th>DRIVEN(IN KMS)</th>\n",
       "      <th>HISTORY</th>\n",
       "      <th>LAST SERVICE</th>\n",
       "      <th>OWNER</th>\n",
       "      <th>FUEL TYPE</th>\n",
       "      <th>LOCATION</th>\n",
       "    </tr>\n",
       "  </thead>\n",
       "  <tbody>\n",
       "    <tr>\n",
       "      <th>0</th>\n",
       "      <td>0</td>\n",
       "      <td>Hyundai Verna 1.6 SX VTVT</td>\n",
       "      <td>2019</td>\n",
       "      <td>₹9,81,699</td>\n",
       "      <td>81,902 km</td>\n",
       "      <td>Non-Accidental</td>\n",
       "      <td>81,902k</td>\n",
       "      <td>1st Owner</td>\n",
       "      <td>Petrol</td>\n",
       "      <td>New Delhi</td>\n",
       "    </tr>\n",
       "    <tr>\n",
       "      <th>1</th>\n",
       "      <td>1</td>\n",
       "      <td>KIA SELTOS GTX + AT PETRO</td>\n",
       "      <td>2020</td>\n",
       "      <td>₹18,95,199</td>\n",
       "      <td>8,241 km</td>\n",
       "      <td>Non-Accidental</td>\n",
       "      <td>8,241km</td>\n",
       "      <td>1st Owner</td>\n",
       "      <td>Petrol</td>\n",
       "      <td>New Delhi</td>\n",
       "    </tr>\n",
       "    <tr>\n",
       "      <th>2</th>\n",
       "      <td>2</td>\n",
       "      <td>Maruti Swift LXI MANUAL</td>\n",
       "      <td>2020</td>\n",
       "      <td>₹5,92,499</td>\n",
       "      <td>10,568 km</td>\n",
       "      <td>Non-Accidental</td>\n",
       "      <td>10,568k</td>\n",
       "      <td>1st Owner</td>\n",
       "      <td>Petrol</td>\n",
       "      <td>New Delhi</td>\n",
       "    </tr>\n",
       "    <tr>\n",
       "      <th>3</th>\n",
       "      <td>3</td>\n",
       "      <td>Maruti Swift LXI MANUAL</td>\n",
       "      <td>2019</td>\n",
       "      <td>₹5,33,399</td>\n",
       "      <td>27,659 km</td>\n",
       "      <td>Non-Accidental</td>\n",
       "      <td>27,659k</td>\n",
       "      <td>1st Owner</td>\n",
       "      <td>Petrol</td>\n",
       "      <td>New Delhi</td>\n",
       "    </tr>\n",
       "    <tr>\n",
       "      <th>4</th>\n",
       "      <td>4</td>\n",
       "      <td>KIA SELTOS HTX 1.5 PETROL</td>\n",
       "      <td>2020</td>\n",
       "      <td>₹13,83,099</td>\n",
       "      <td>32,799 km</td>\n",
       "      <td>Non-Accidental</td>\n",
       "      <td>32,799k</td>\n",
       "      <td>1st Owner</td>\n",
       "      <td>Petrol</td>\n",
       "      <td>New Delhi</td>\n",
       "    </tr>\n",
       "  </tbody>\n",
       "</table>\n",
       "</div>"
      ],
      "text/plain": [
       "   Unnamed: 0                   CARS NAME MODEL       PRICE DRIVEN(IN KMS)  \\\n",
       "0           0   Hyundai Verna 1.6 SX VTVT  2019   ₹9,81,699      81,902 km   \n",
       "1           1   KIA SELTOS GTX + AT PETRO  2020  ₹18,95,199       8,241 km   \n",
       "2           2     Maruti Swift LXI MANUAL  2020   ₹5,92,499      10,568 km   \n",
       "3           3     Maruti Swift LXI MANUAL  2019   ₹5,33,399      27,659 km   \n",
       "4           4   KIA SELTOS HTX 1.5 PETROL  2020  ₹13,83,099      32,799 km   \n",
       "\n",
       "          HISTORY LAST SERVICE      OWNER FUEL TYPE   LOCATION  \n",
       "0  Non-Accidental      81,902k  1st Owner    Petrol  New Delhi  \n",
       "1  Non-Accidental      8,241km  1st Owner    Petrol  New Delhi  \n",
       "2  Non-Accidental      10,568k  1st Owner    Petrol  New Delhi  \n",
       "3  Non-Accidental      27,659k  1st Owner    Petrol  New Delhi  \n",
       "4  Non-Accidental      32,799k  1st Owner    Petrol  New Delhi  "
      ]
     },
     "execution_count": 3,
     "metadata": {},
     "output_type": "execute_result"
    }
   ],
   "source": [
    "data = pd.read_excel(\"C:\\\\Users\\\\LENOVO\\\\Desktop\\\\DATa.xlsx\")\n",
    "data.head()"
   ]
  },
  {
   "cell_type": "code",
   "execution_count": 4,
   "id": "d68a2f91",
   "metadata": {},
   "outputs": [
    {
     "data": {
      "text/html": [
       "<div>\n",
       "<style scoped>\n",
       "    .dataframe tbody tr th:only-of-type {\n",
       "        vertical-align: middle;\n",
       "    }\n",
       "\n",
       "    .dataframe tbody tr th {\n",
       "        vertical-align: top;\n",
       "    }\n",
       "\n",
       "    .dataframe thead th {\n",
       "        text-align: right;\n",
       "    }\n",
       "</style>\n",
       "<table border=\"1\" class=\"dataframe\">\n",
       "  <thead>\n",
       "    <tr style=\"text-align: right;\">\n",
       "      <th></th>\n",
       "      <th>CARS NAME</th>\n",
       "      <th>MODEL</th>\n",
       "      <th>PRICE</th>\n",
       "      <th>DRIVEN(IN KMS)</th>\n",
       "      <th>HISTORY</th>\n",
       "      <th>LAST SERVICE</th>\n",
       "      <th>OWNER</th>\n",
       "      <th>FUEL TYPE</th>\n",
       "      <th>LOCATION</th>\n",
       "    </tr>\n",
       "  </thead>\n",
       "  <tbody>\n",
       "    <tr>\n",
       "      <th>0</th>\n",
       "      <td>Hyundai Verna 1.6 SX VTVT</td>\n",
       "      <td>2019</td>\n",
       "      <td>₹9,81,699</td>\n",
       "      <td>81,902 km</td>\n",
       "      <td>Non-Accidental</td>\n",
       "      <td>81,902k</td>\n",
       "      <td>1st Owner</td>\n",
       "      <td>Petrol</td>\n",
       "      <td>New Delhi</td>\n",
       "    </tr>\n",
       "    <tr>\n",
       "      <th>1</th>\n",
       "      <td>KIA SELTOS GTX + AT PETRO</td>\n",
       "      <td>2020</td>\n",
       "      <td>₹18,95,199</td>\n",
       "      <td>8,241 km</td>\n",
       "      <td>Non-Accidental</td>\n",
       "      <td>8,241km</td>\n",
       "      <td>1st Owner</td>\n",
       "      <td>Petrol</td>\n",
       "      <td>New Delhi</td>\n",
       "    </tr>\n",
       "    <tr>\n",
       "      <th>2</th>\n",
       "      <td>Maruti Swift LXI MANUAL</td>\n",
       "      <td>2020</td>\n",
       "      <td>₹5,92,499</td>\n",
       "      <td>10,568 km</td>\n",
       "      <td>Non-Accidental</td>\n",
       "      <td>10,568k</td>\n",
       "      <td>1st Owner</td>\n",
       "      <td>Petrol</td>\n",
       "      <td>New Delhi</td>\n",
       "    </tr>\n",
       "    <tr>\n",
       "      <th>3</th>\n",
       "      <td>Maruti Swift LXI MANUAL</td>\n",
       "      <td>2019</td>\n",
       "      <td>₹5,33,399</td>\n",
       "      <td>27,659 km</td>\n",
       "      <td>Non-Accidental</td>\n",
       "      <td>27,659k</td>\n",
       "      <td>1st Owner</td>\n",
       "      <td>Petrol</td>\n",
       "      <td>New Delhi</td>\n",
       "    </tr>\n",
       "    <tr>\n",
       "      <th>4</th>\n",
       "      <td>KIA SELTOS HTX 1.5 PETROL</td>\n",
       "      <td>2020</td>\n",
       "      <td>₹13,83,099</td>\n",
       "      <td>32,799 km</td>\n",
       "      <td>Non-Accidental</td>\n",
       "      <td>32,799k</td>\n",
       "      <td>1st Owner</td>\n",
       "      <td>Petrol</td>\n",
       "      <td>New Delhi</td>\n",
       "    </tr>\n",
       "  </tbody>\n",
       "</table>\n",
       "</div>"
      ],
      "text/plain": [
       "                    CARS NAME MODEL       PRICE DRIVEN(IN KMS)  \\\n",
       "0   Hyundai Verna 1.6 SX VTVT  2019   ₹9,81,699      81,902 km   \n",
       "1   KIA SELTOS GTX + AT PETRO  2020  ₹18,95,199       8,241 km   \n",
       "2     Maruti Swift LXI MANUAL  2020   ₹5,92,499      10,568 km   \n",
       "3     Maruti Swift LXI MANUAL  2019   ₹5,33,399      27,659 km   \n",
       "4   KIA SELTOS HTX 1.5 PETROL  2020  ₹13,83,099      32,799 km   \n",
       "\n",
       "          HISTORY LAST SERVICE      OWNER FUEL TYPE   LOCATION  \n",
       "0  Non-Accidental      81,902k  1st Owner    Petrol  New Delhi  \n",
       "1  Non-Accidental      8,241km  1st Owner    Petrol  New Delhi  \n",
       "2  Non-Accidental      10,568k  1st Owner    Petrol  New Delhi  \n",
       "3  Non-Accidental      27,659k  1st Owner    Petrol  New Delhi  \n",
       "4  Non-Accidental      32,799k  1st Owner    Petrol  New Delhi  "
      ]
     },
     "execution_count": 4,
     "metadata": {},
     "output_type": "execute_result"
    }
   ],
   "source": [
    "data = data.drop('Unnamed: 0',axis=1)\n",
    "data.head()"
   ]
  },
  {
   "cell_type": "code",
   "execution_count": 5,
   "id": "c472b1bb",
   "metadata": {},
   "outputs": [
    {
     "name": "stdout",
     "output_type": "stream",
     "text": [
      "<class 'pandas.core.frame.DataFrame'>\n",
      "RangeIndex: 5084 entries, 0 to 5083\n",
      "Data columns (total 9 columns):\n",
      " #   Column          Non-Null Count  Dtype \n",
      "---  ------          --------------  ----- \n",
      " 0   CARS NAME       5084 non-null   object\n",
      " 1   MODEL           5084 non-null   object\n",
      " 2   PRICE           5084 non-null   object\n",
      " 3   DRIVEN(IN KMS)  5084 non-null   object\n",
      " 4   HISTORY         5084 non-null   object\n",
      " 5   LAST SERVICE    5083 non-null   object\n",
      " 6   OWNER           5084 non-null   object\n",
      " 7   FUEL TYPE       5084 non-null   object\n",
      " 8   LOCATION        5084 non-null   object\n",
      "dtypes: object(9)\n",
      "memory usage: 357.6+ KB\n"
     ]
    }
   ],
   "source": [
    "data.info()"
   ]
  },
  {
   "cell_type": "code",
   "execution_count": 6,
   "id": "cc3831e5",
   "metadata": {},
   "outputs": [
    {
     "data": {
      "text/plain": [
       "Index(['CARS NAME', 'MODEL', 'PRICE', 'DRIVEN(IN KMS)', 'HISTORY',\n",
       "       'LAST SERVICE', 'OWNER', 'FUEL TYPE', 'LOCATION'],\n",
       "      dtype='object')"
      ]
     },
     "execution_count": 6,
     "metadata": {},
     "output_type": "execute_result"
    }
   ],
   "source": [
    "data.columns"
   ]
  },
  {
   "cell_type": "code",
   "execution_count": 7,
   "id": "39eddfe9",
   "metadata": {},
   "outputs": [
    {
     "data": {
      "text/plain": [
       "(5084, 9)"
      ]
     },
     "execution_count": 7,
     "metadata": {},
     "output_type": "execute_result"
    }
   ],
   "source": [
    "data.shape"
   ]
  },
  {
   "cell_type": "code",
   "execution_count": 8,
   "id": "a3813297",
   "metadata": {},
   "outputs": [
    {
     "name": "stdout",
     "output_type": "stream",
     "text": [
      "1st Owner      4071\n",
      "2nd Owner       982\n",
      "3rd Owner        30\n",
      "Not Present       1\n",
      "Name: OWNER, dtype: int64\n"
     ]
    },
    {
     "data": {
      "image/png": "[encoded data removed]",
      "text/plain": [
       "<Figure size 432x288 with 1 Axes>"
      ]
     },
     "metadata": {
      "needs_background": "light"
     },
     "output_type": "display_data"
    }
   ],
   "source": [
    "sns.countplot(x= 'OWNER',data = data)\n",
    "print(data[\"OWNER\"].value_counts())"
   ]
  },
  {
   "cell_type": "markdown",
   "id": "729d235e",
   "metadata": {},
   "source": [
    "CAR WAS MOSTLY SELL BY THE ONLY OWNER (1st OWNER)"
   ]
  },
  {
   "cell_type": "code",
   "execution_count": 9,
   "id": "501daa48",
   "metadata": {},
   "outputs": [
    {
     "name": "stdout",
     "output_type": "stream",
     "text": [
      "Non-Accidental    5081\n",
      "Not Present          3\n",
      "Name: HISTORY, dtype: int64\n"
     ]
    },
    {
     "data": {
      "image/png": "[encoded data removed]",
      "text/plain": [
       "<Figure size 432x288 with 1 Axes>"
      ]
     },
     "metadata": {
      "needs_background": "light"
     },
     "output_type": "display_data"
    }
   ],
   "source": [
    "sns.countplot(x= 'HISTORY',data = data)\n",
    "print(data[\"HISTORY\"].value_counts())"
   ]
  },
  {
   "cell_type": "markdown",
   "id": "55776e83",
   "metadata": {},
   "source": [
    "THE DATA SHOWS, THE CAR WHICH THEY ARE SELLING HAVE  NON ACCIDENTAL HISTORY..."
   ]
  },
  {
   "cell_type": "code",
   "execution_count": 10,
   "id": "0bcb4f75",
   "metadata": {},
   "outputs": [
    {
     "name": "stdout",
     "output_type": "stream",
     "text": [
      "Petrol          3421\n",
      "Diesel          1500\n",
      "Petrol + CNG     163\n",
      "Name: FUEL TYPE, dtype: int64\n"
     ]
    },
    {
     "data": {
      "image/png": "[encoded data removed]",
      "text/plain": [
       "<Figure size 432x288 with 1 Axes>"
      ]
     },
     "metadata": {
      "needs_background": "light"
     },
     "output_type": "display_data"
    }
   ],
   "source": [
    "sns.countplot(x= 'FUEL TYPE',data = data)\n",
    "print(data[\"FUEL TYPE\"].value_counts())"
   ]
  },
  {
   "cell_type": "markdown",
   "id": "a4e4d60f",
   "metadata": {},
   "source": [
    "THROUGH THE DATA , THE NO OF SELLING CARS AVAILABLE IN THE PETROL VARIANT ARE MAXIMUM"
   ]
  },
  {
   "cell_type": "code",
   "execution_count": 11,
   "id": "ccbc8bab",
   "metadata": {},
   "outputs": [
    {
     "name": "stdout",
     "output_type": "stream",
     "text": [
      "New Delhi      2007\n",
      "Noida          1977\n",
      "Ghaziabad      1096\n",
      "Gurgaon           3\n",
      "Not Present       1\n",
      "Name: LOCATION, dtype: int64\n"
     ]
    },
    {
     "data": {
      "image/png": "[encoded data removed]",
      "text/plain": [
       "<Figure size 432x288 with 1 Axes>"
      ]
     },
     "metadata": {
      "needs_background": "light"
     },
     "output_type": "display_data"
    }
   ],
   "source": [
    "sns.countplot(x= 'LOCATION',data = data)\n",
    "print(data[\"LOCATION\"].value_counts())"
   ]
  },
  {
   "cell_type": "markdown",
   "id": "fc7399fd",
   "metadata": {},
   "source": [
    "THESE ARE THE LOCATION OF THE REGISTERED CAR "
   ]
  },
  {
   "cell_type": "code",
   "execution_count": 12,
   "id": "2f855f86",
   "metadata": {},
   "outputs": [
    {
     "name": "stdout",
     "output_type": "stream",
     "text": [
      "2019    807\n",
      "2017    784\n",
      "2018    668\n",
      "2021    598\n",
      "2020    564\n",
      "2016    521\n",
      "2015    351\n",
      "2014    344\n",
      "2013    231\n",
      "2022     70\n",
      "2011     44\n",
      "2012     40\n",
      "2010     37\n",
      "2009     24\n",
      "Not       1\n",
      "Name: MODEL, dtype: int64\n"
     ]
    },
    {
     "data": {
      "image/png": "[encoded data removed]",
      "text/plain": [
       "<Figure size 1800x720 with 1 Axes>"
      ]
     },
     "metadata": {
      "needs_background": "light"
     },
     "output_type": "display_data"
    }
   ],
   "source": [
    "plt.figure(figsize=(25,10))\n",
    "sns.countplot(x= 'MODEL',data = data)\n",
    "print(data[\"MODEL\"].value_counts())"
   ]
  },
  {
   "cell_type": "markdown",
   "id": "7a017038",
   "metadata": {},
   "source": [
    "CAR'S MODEL YEAR IS ONE OF THE IMPORTANT PART IN PREDICTING THE PRICE"
   ]
  },
  {
   "cell_type": "code",
   "execution_count": 13,
   "id": "e8f49216",
   "metadata": {},
   "outputs": [
    {
     "data": {
      "text/html": [
       "<div>\n",
       "<style scoped>\n",
       "    .dataframe tbody tr th:only-of-type {\n",
       "        vertical-align: middle;\n",
       "    }\n",
       "\n",
       "    .dataframe tbody tr th {\n",
       "        vertical-align: top;\n",
       "    }\n",
       "\n",
       "    .dataframe thead th {\n",
       "        text-align: right;\n",
       "    }\n",
       "</style>\n",
       "<table border=\"1\" class=\"dataframe\">\n",
       "  <thead>\n",
       "    <tr style=\"text-align: right;\">\n",
       "      <th></th>\n",
       "      <th>CARS NAME</th>\n",
       "      <th>MODEL</th>\n",
       "      <th>PRICE</th>\n",
       "      <th>DRIVEN(IN KMS)</th>\n",
       "      <th>HISTORY</th>\n",
       "      <th>LAST SERVICE</th>\n",
       "      <th>OWNER</th>\n",
       "      <th>FUEL TYPE</th>\n",
       "      <th>LOCATION</th>\n",
       "    </tr>\n",
       "  </thead>\n",
       "  <tbody>\n",
       "    <tr>\n",
       "      <th>0</th>\n",
       "      <td>Hyundai Verna 1.6 SX VTVT</td>\n",
       "      <td>2019</td>\n",
       "      <td>₹9,81,699</td>\n",
       "      <td>81,902 km</td>\n",
       "      <td>Non-Accidental</td>\n",
       "      <td>81,902k</td>\n",
       "      <td>1st Owner</td>\n",
       "      <td>Petrol</td>\n",
       "      <td>New Delhi</td>\n",
       "    </tr>\n",
       "    <tr>\n",
       "      <th>1</th>\n",
       "      <td>KIA SELTOS GTX + AT PETRO</td>\n",
       "      <td>2020</td>\n",
       "      <td>₹18,95,199</td>\n",
       "      <td>8,241 km</td>\n",
       "      <td>Non-Accidental</td>\n",
       "      <td>8,241km</td>\n",
       "      <td>1st Owner</td>\n",
       "      <td>Petrol</td>\n",
       "      <td>New Delhi</td>\n",
       "    </tr>\n",
       "    <tr>\n",
       "      <th>2</th>\n",
       "      <td>Maruti Swift LXI MANUAL</td>\n",
       "      <td>2020</td>\n",
       "      <td>₹5,92,499</td>\n",
       "      <td>10,568 km</td>\n",
       "      <td>Non-Accidental</td>\n",
       "      <td>10,568k</td>\n",
       "      <td>1st Owner</td>\n",
       "      <td>Petrol</td>\n",
       "      <td>New Delhi</td>\n",
       "    </tr>\n",
       "    <tr>\n",
       "      <th>3</th>\n",
       "      <td>Maruti Swift LXI MANUAL</td>\n",
       "      <td>2019</td>\n",
       "      <td>₹5,33,399</td>\n",
       "      <td>27,659 km</td>\n",
       "      <td>Non-Accidental</td>\n",
       "      <td>27,659k</td>\n",
       "      <td>1st Owner</td>\n",
       "      <td>Petrol</td>\n",
       "      <td>New Delhi</td>\n",
       "    </tr>\n",
       "    <tr>\n",
       "      <th>4</th>\n",
       "      <td>KIA SELTOS HTX 1.5 PETROL</td>\n",
       "      <td>2020</td>\n",
       "      <td>₹13,83,099</td>\n",
       "      <td>32,799 km</td>\n",
       "      <td>Non-Accidental</td>\n",
       "      <td>32,799k</td>\n",
       "      <td>1st Owner</td>\n",
       "      <td>Petrol</td>\n",
       "      <td>New Delhi</td>\n",
       "    </tr>\n",
       "  </tbody>\n",
       "</table>\n",
       "</div>"
      ],
      "text/plain": [
       "                    CARS NAME MODEL       PRICE DRIVEN(IN KMS)  \\\n",
       "0   Hyundai Verna 1.6 SX VTVT  2019   ₹9,81,699      81,902 km   \n",
       "1   KIA SELTOS GTX + AT PETRO  2020  ₹18,95,199       8,241 km   \n",
       "2     Maruti Swift LXI MANUAL  2020   ₹5,92,499      10,568 km   \n",
       "3     Maruti Swift LXI MANUAL  2019   ₹5,33,399      27,659 km   \n",
       "4   KIA SELTOS HTX 1.5 PETROL  2020  ₹13,83,099      32,799 km   \n",
       "\n",
       "          HISTORY LAST SERVICE      OWNER FUEL TYPE   LOCATION  \n",
       "0  Non-Accidental      81,902k  1st Owner    Petrol  New Delhi  \n",
       "1  Non-Accidental      8,241km  1st Owner    Petrol  New Delhi  \n",
       "2  Non-Accidental      10,568k  1st Owner    Petrol  New Delhi  \n",
       "3  Non-Accidental      27,659k  1st Owner    Petrol  New Delhi  \n",
       "4  Non-Accidental      32,799k  1st Owner    Petrol  New Delhi  "
      ]
     },
     "execution_count": 13,
     "metadata": {},
     "output_type": "execute_result"
    }
   ],
   "source": [
    "data.head()"
   ]
  },
  {
   "cell_type": "code",
   "execution_count": 37,
   "id": "f9d5a8aa",
   "metadata": {},
   "outputs": [],
   "source": [
    "data['PRICE'] = data['PRICE'].str.replace('₹','').str.replace(',','')"
   ]
  },
  {
   "cell_type": "code",
   "execution_count": 48,
   "id": "0df7b089",
   "metadata": {},
   "outputs": [],
   "source": [
    "data['PRICE'] = data['PRICE'].replace(\"Not Present\",'0')"
   ]
  },
  {
   "cell_type": "code",
   "execution_count": 56,
   "id": "2da03878",
   "metadata": {},
   "outputs": [],
   "source": [
    "data['PRICE'] = data['PRICE'].astype(\"int64\")"
   ]
  },
  {
   "cell_type": "code",
   "execution_count": 51,
   "id": "4e4d703d",
   "metadata": {},
   "outputs": [],
   "source": [
    "data = data.drop('LAST SERVICE',axis=1)   # as LAST SERVICE AND DRIVEN KM HAS THE SAME VALUES"
   ]
  },
  {
   "cell_type": "code",
   "execution_count": 52,
   "id": "c6daf47f",
   "metadata": {},
   "outputs": [
    {
     "data": {
      "text/plain": [
       "(5084, 8)"
      ]
     },
     "execution_count": 52,
     "metadata": {},
     "output_type": "execute_result"
    }
   ],
   "source": [
    "data.shape"
   ]
  },
  {
   "cell_type": "code",
   "execution_count": 59,
   "id": "299a1f45",
   "metadata": {},
   "outputs": [],
   "source": [
    "data['DRIVEN(IN KMS)'] = data['DRIVEN(IN KMS)'].str.replace('km','').str.replace(',','')"
   ]
  },
  {
   "cell_type": "code",
   "execution_count": 60,
   "id": "cc8df670",
   "metadata": {},
   "outputs": [
    {
     "data": {
      "text/plain": [
       "0       81902 \n",
       "1        8241 \n",
       "2       10568 \n",
       "3       27659 \n",
       "4       32799 \n",
       "         ...  \n",
       "5079    44339 \n",
       "5080    21204 \n",
       "5081    52533 \n",
       "5082    80192 \n",
       "5083    73080 \n",
       "Name: DRIVEN(IN KMS), Length: 5084, dtype: object"
      ]
     },
     "execution_count": 60,
     "metadata": {},
     "output_type": "execute_result"
    }
   ],
   "source": [
    "data['DRIVEN(IN KMS)']"
   ]
  },
  {
   "cell_type": "code",
   "execution_count": 64,
   "id": "288d4ca9",
   "metadata": {},
   "outputs": [],
   "source": [
    "data['DRIVEN(IN KMS)'] = data['DRIVEN(IN KMS)'].replace(\"Not Present\",'0')"
   ]
  },
  {
   "cell_type": "code",
   "execution_count": 65,
   "id": "02c0db0d",
   "metadata": {},
   "outputs": [],
   "source": [
    "data['DRIVEN(IN KMS)'] = data['DRIVEN(IN KMS)'].astype(\"int64\")"
   ]
  },
  {
   "cell_type": "code",
   "execution_count": 66,
   "id": "c36e006c",
   "metadata": {},
   "outputs": [
    {
     "name": "stdout",
     "output_type": "stream",
     "text": [
      "<class 'pandas.core.frame.DataFrame'>\n",
      "RangeIndex: 5084 entries, 0 to 5083\n",
      "Data columns (total 8 columns):\n",
      " #   Column          Non-Null Count  Dtype \n",
      "---  ------          --------------  ----- \n",
      " 0   CARS NAME       5084 non-null   object\n",
      " 1   MODEL           5084 non-null   object\n",
      " 2   PRICE           5084 non-null   int64 \n",
      " 3   DRIVEN(IN KMS)  5084 non-null   int64 \n",
      " 4   HISTORY         5084 non-null   object\n",
      " 5   OWNER           5084 non-null   object\n",
      " 6   FUEL TYPE       5084 non-null   object\n",
      " 7   LOCATION        5084 non-null   object\n",
      "dtypes: int64(2), object(6)\n",
      "memory usage: 317.9+ KB\n"
     ]
    }
   ],
   "source": [
    "data.info()"
   ]
  },
  {
   "cell_type": "code",
   "execution_count": 68,
   "id": "de196341",
   "metadata": {},
   "outputs": [
    {
     "data": {
      "text/plain": [
       "<AxesSubplot:xlabel='DRIVEN(IN KMS)', ylabel='PRICE'>"
      ]
     },
     "execution_count": 68,
     "metadata": {},
     "output_type": "execute_result"
    },
    {
     "data": {
      "image/png": "[encoded data removed]",
      "text/plain": [
       "<Figure size 720x504 with 1 Axes>"
      ]
     },
     "metadata": {
      "needs_background": "light"
     },
     "output_type": "display_data"
    }
   ],
   "source": [
    "plt.figure(figsize=(10,7))\n",
    "sns.regplot(x='DRIVEN(IN KMS)',y='PRICE',data=data)"
   ]
  },
  {
   "cell_type": "markdown",
   "id": "966e6ee1",
   "metadata": {},
   "source": [
    "CLEARLY THE REGRESSION PLOT CLARIFIES AS THE DRIVEN KILOMETERS OF THE CAR IS GETTING MORE THEN THE PRICE WILL DECREASE .."
   ]
  },
  {
   "cell_type": "code",
   "execution_count": 69,
   "id": "9deb20c0",
   "metadata": {},
   "outputs": [],
   "source": [
    "from sklearn.preprocessing import LabelEncoder"
   ]
  },
  {
   "cell_type": "code",
   "execution_count": 70,
   "id": "540bc863",
   "metadata": {},
   "outputs": [],
   "source": [
    "le = LabelEncoder()\n",
    "var_mode = ['CARS NAME','MODEL','HISTORY','OWNER','FUEL TYPE','LOCATION']\n",
    "\n",
    "for i in var_mode:\n",
    "    data[i] = le.fit_transform(data[i])"
   ]
  },
  {
   "cell_type": "code",
   "execution_count": 71,
   "id": "ca39216e",
   "metadata": {},
   "outputs": [
    {
     "name": "stdout",
     "output_type": "stream",
     "text": [
      "<class 'pandas.core.frame.DataFrame'>\n",
      "RangeIndex: 5084 entries, 0 to 5083\n",
      "Data columns (total 8 columns):\n",
      " #   Column          Non-Null Count  Dtype\n",
      "---  ------          --------------  -----\n",
      " 0   CARS NAME       5084 non-null   int32\n",
      " 1   MODEL           5084 non-null   int32\n",
      " 2   PRICE           5084 non-null   int64\n",
      " 3   DRIVEN(IN KMS)  5084 non-null   int64\n",
      " 4   HISTORY         5084 non-null   int32\n",
      " 5   OWNER           5084 non-null   int32\n",
      " 6   FUEL TYPE       5084 non-null   int32\n",
      " 7   LOCATION        5084 non-null   int32\n",
      "dtypes: int32(6), int64(2)\n",
      "memory usage: 198.7 KB\n"
     ]
    }
   ],
   "source": [
    "data.info()"
   ]
  },
  {
   "cell_type": "code",
   "execution_count": 75,
   "id": "29a725d5",
   "metadata": {},
   "outputs": [
    {
     "data": {
      "text/plain": [
       "<AxesSubplot:xlabel='OWNER', ylabel='PRICE'>"
      ]
     },
     "execution_count": 75,
     "metadata": {},
     "output_type": "execute_result"
    },
    {
     "data": {
      "image/png": "[encoded data removed]",
      "text/plain": [
       "<Figure size 504x360 with 1 Axes>"
      ]
     },
     "metadata": {
      "needs_background": "light"
     },
     "output_type": "display_data"
    }
   ],
   "source": [
    "plt.figure(figsize=(7,5))\n",
    "sns.regplot(x='OWNER',y='PRICE',data=data)"
   ]
  },
  {
   "cell_type": "markdown",
   "id": "03050649",
   "metadata": {},
   "source": [
    "CLEARLY AS THE OWNER INCREASES MEANS IF THE OWNER CHANGED FROM THE REAL OWNER TO OTHERS AND OTHERS THEN THE CAR'S PRICE WILL DEACREASE"
   ]
  },
  {
   "cell_type": "code",
   "execution_count": 77,
   "id": "4b0b8078",
   "metadata": {},
   "outputs": [
    {
     "data": {
      "text/plain": [
       "<AxesSubplot:xlabel='FUEL TYPE', ylabel='PRICE'>"
      ]
     },
     "execution_count": 77,
     "metadata": {},
     "output_type": "execute_result"
    },
    {
     "data": {
      "image/png": "[encoded data removed]",
      "text/plain": [
       "<Figure size 504x360 with 1 Axes>"
      ]
     },
     "metadata": {
      "needs_background": "light"
     },
     "output_type": "display_data"
    }
   ],
   "source": [
    "plt.figure(figsize=(7,5))\n",
    "sns.regplot(x='FUEL TYPE',y='PRICE',data=data)"
   ]
  },
  {
   "cell_type": "markdown",
   "id": "2d510919",
   "metadata": {},
   "source": [
    "THE PRICES OF THE PETROL VARIANT IS MUCH MORE HIGHER THAN THE PETROL+CNG VARIANT AS WE CAN SEE THE TREND IN THE GRAPH THE PRICE DECREASES AND AFFECTS BY THE FUEL TYPE OF THE CAR"
   ]
  },
  {
   "cell_type": "code",
   "execution_count": 81,
   "id": "fbc3a701",
   "metadata": {},
   "outputs": [
    {
     "data": {
      "text/plain": [
       "<seaborn.axisgrid.FacetGrid at 0x1b4bee6ef10>"
      ]
     },
     "execution_count": 81,
     "metadata": {},
     "output_type": "execute_result"
    },
    {
     "data": {
      "text/plain": [
       "<Figure size 720x576 with 0 Axes>"
      ]
     },
     "metadata": {},
     "output_type": "display_data"
    },
    {
     "data": {
      "image/png": "[encoded data removed]",
      "text/plain": [
       "<Figure size 360x360 with 1 Axes>"
      ]
     },
     "metadata": {
      "needs_background": "light"
     },
     "output_type": "display_data"
    }
   ],
   "source": [
    "plt.figure(figsize=(10,8))\n",
    "sns.catplot(x='MODEL',y='PRICE',data=data)"
   ]
  },
  {
   "cell_type": "markdown",
   "id": "948149c3",
   "metadata": {},
   "source": [
    "SO AS THE MODEL OF THE YEAR IS GOOD THEN THE PRICE WILL ALOS GOOD OF THT CAR BUT WHEN THE MODEL OF THE CAR GETTING OLDER THE PRICE GETTING DECREASES  FOR THAT CAR"
   ]
  },
  {
   "cell_type": "markdown",
   "id": "fa47f3ec",
   "metadata": {},
   "source": [
    "# SINCE THE DATA IS NOT CONTINOUS SO WE ARE NOT CHECKING THE OUTLIERS AND SKEWNESS "
   ]
  },
  {
   "cell_type": "code",
   "execution_count": 82,
   "id": "a71ba796",
   "metadata": {},
   "outputs": [
    {
     "data": {
      "text/html": [
       "<div>\n",
       "<style scoped>\n",
       "    .dataframe tbody tr th:only-of-type {\n",
       "        vertical-align: middle;\n",
       "    }\n",
       "\n",
       "    .dataframe tbody tr th {\n",
       "        vertical-align: top;\n",
       "    }\n",
       "\n",
       "    .dataframe thead th {\n",
       "        text-align: right;\n",
       "    }\n",
       "</style>\n",
       "<table border=\"1\" class=\"dataframe\">\n",
       "  <thead>\n",
       "    <tr style=\"text-align: right;\">\n",
       "      <th></th>\n",
       "      <th>CARS NAME</th>\n",
       "      <th>MODEL</th>\n",
       "      <th>PRICE</th>\n",
       "      <th>DRIVEN(IN KMS)</th>\n",
       "      <th>HISTORY</th>\n",
       "      <th>OWNER</th>\n",
       "      <th>FUEL TYPE</th>\n",
       "      <th>LOCATION</th>\n",
       "    </tr>\n",
       "  </thead>\n",
       "  <tbody>\n",
       "    <tr>\n",
       "      <th>count</th>\n",
       "      <td>5084.000000</td>\n",
       "      <td>5084.000000</td>\n",
       "      <td>5.084000e+03</td>\n",
       "      <td>5084.000000</td>\n",
       "      <td>5084.000000</td>\n",
       "      <td>5084.000000</td>\n",
       "      <td>5084.000000</td>\n",
       "      <td>5084.000000</td>\n",
       "    </tr>\n",
       "    <tr>\n",
       "      <th>mean</th>\n",
       "      <td>140.944532</td>\n",
       "      <td>8.516916</td>\n",
       "      <td>6.669941e+05</td>\n",
       "      <td>42445.365854</td>\n",
       "      <td>0.000590</td>\n",
       "      <td>0.205547</td>\n",
       "      <td>0.737018</td>\n",
       "      <td>1.957514</td>\n",
       "    </tr>\n",
       "    <tr>\n",
       "      <th>std</th>\n",
       "      <td>76.654987</td>\n",
       "      <td>2.571716</td>\n",
       "      <td>4.020140e+05</td>\n",
       "      <td>28272.471542</td>\n",
       "      <td>0.024287</td>\n",
       "      <td>0.419897</td>\n",
       "      <td>0.507933</td>\n",
       "      <td>1.118480</td>\n",
       "    </tr>\n",
       "    <tr>\n",
       "      <th>min</th>\n",
       "      <td>0.000000</td>\n",
       "      <td>0.000000</td>\n",
       "      <td>0.000000e+00</td>\n",
       "      <td>0.000000</td>\n",
       "      <td>0.000000</td>\n",
       "      <td>0.000000</td>\n",
       "      <td>0.000000</td>\n",
       "      <td>0.000000</td>\n",
       "    </tr>\n",
       "    <tr>\n",
       "      <th>25%</th>\n",
       "      <td>74.000000</td>\n",
       "      <td>7.000000</td>\n",
       "      <td>4.173990e+05</td>\n",
       "      <td>19927.000000</td>\n",
       "      <td>0.000000</td>\n",
       "      <td>0.000000</td>\n",
       "      <td>0.000000</td>\n",
       "      <td>2.000000</td>\n",
       "    </tr>\n",
       "    <tr>\n",
       "      <th>50%</th>\n",
       "      <td>149.000000</td>\n",
       "      <td>9.000000</td>\n",
       "      <td>5.822990e+05</td>\n",
       "      <td>37413.000000</td>\n",
       "      <td>0.000000</td>\n",
       "      <td>0.000000</td>\n",
       "      <td>1.000000</td>\n",
       "      <td>2.000000</td>\n",
       "    </tr>\n",
       "    <tr>\n",
       "      <th>75%</th>\n",
       "      <td>208.000000</td>\n",
       "      <td>10.000000</td>\n",
       "      <td>8.054990e+05</td>\n",
       "      <td>59822.000000</td>\n",
       "      <td>0.000000</td>\n",
       "      <td>0.000000</td>\n",
       "      <td>1.000000</td>\n",
       "      <td>3.000000</td>\n",
       "    </tr>\n",
       "    <tr>\n",
       "      <th>max</th>\n",
       "      <td>294.000000</td>\n",
       "      <td>14.000000</td>\n",
       "      <td>2.158999e+06</td>\n",
       "      <td>161137.000000</td>\n",
       "      <td>1.000000</td>\n",
       "      <td>3.000000</td>\n",
       "      <td>2.000000</td>\n",
       "      <td>4.000000</td>\n",
       "    </tr>\n",
       "  </tbody>\n",
       "</table>\n",
       "</div>"
      ],
      "text/plain": [
       "         CARS NAME        MODEL         PRICE  DRIVEN(IN KMS)      HISTORY  \\\n",
       "count  5084.000000  5084.000000  5.084000e+03     5084.000000  5084.000000   \n",
       "mean    140.944532     8.516916  6.669941e+05    42445.365854     0.000590   \n",
       "std      76.654987     2.571716  4.020140e+05    28272.471542     0.024287   \n",
       "min       0.000000     0.000000  0.000000e+00        0.000000     0.000000   \n",
       "25%      74.000000     7.000000  4.173990e+05    19927.000000     0.000000   \n",
       "50%     149.000000     9.000000  5.822990e+05    37413.000000     0.000000   \n",
       "75%     208.000000    10.000000  8.054990e+05    59822.000000     0.000000   \n",
       "max     294.000000    14.000000  2.158999e+06   161137.000000     1.000000   \n",
       "\n",
       "             OWNER    FUEL TYPE     LOCATION  \n",
       "count  5084.000000  5084.000000  5084.000000  \n",
       "mean      0.205547     0.737018     1.957514  \n",
       "std       0.419897     0.507933     1.118480  \n",
       "min       0.000000     0.000000     0.000000  \n",
       "25%       0.000000     0.000000     2.000000  \n",
       "50%       0.000000     1.000000     2.000000  \n",
       "75%       0.000000     1.000000     3.000000  \n",
       "max       3.000000     2.000000     4.000000  "
      ]
     },
     "execution_count": 82,
     "metadata": {},
     "output_type": "execute_result"
    }
   ],
   "source": [
    "data.describe()"
   ]
  },
  {
   "cell_type": "code",
   "execution_count": 84,
   "id": "63fddf5b",
   "metadata": {},
   "outputs": [
    {
     "data": {
      "text/html": [
       "<div>\n",
       "<style scoped>\n",
       "    .dataframe tbody tr th:only-of-type {\n",
       "        vertical-align: middle;\n",
       "    }\n",
       "\n",
       "    .dataframe tbody tr th {\n",
       "        vertical-align: top;\n",
       "    }\n",
       "\n",
       "    .dataframe thead th {\n",
       "        text-align: right;\n",
       "    }\n",
       "</style>\n",
       "<table border=\"1\" class=\"dataframe\">\n",
       "  <thead>\n",
       "    <tr style=\"text-align: right;\">\n",
       "      <th></th>\n",
       "      <th>CARS NAME</th>\n",
       "      <th>MODEL</th>\n",
       "      <th>PRICE</th>\n",
       "      <th>DRIVEN(IN KMS)</th>\n",
       "      <th>HISTORY</th>\n",
       "      <th>OWNER</th>\n",
       "      <th>FUEL TYPE</th>\n",
       "      <th>LOCATION</th>\n",
       "    </tr>\n",
       "  </thead>\n",
       "  <tbody>\n",
       "    <tr>\n",
       "      <th>CARS NAME</th>\n",
       "      <td>1.000000</td>\n",
       "      <td>0.179291</td>\n",
       "      <td>-0.116231</td>\n",
       "      <td>-0.083732</td>\n",
       "      <td>0.030557</td>\n",
       "      <td>-0.034754</td>\n",
       "      <td>0.061194</td>\n",
       "      <td>0.028534</td>\n",
       "    </tr>\n",
       "    <tr>\n",
       "      <th>MODEL</th>\n",
       "      <td>0.179291</td>\n",
       "      <td>1.000000</td>\n",
       "      <td>0.340429</td>\n",
       "      <td>-0.570915</td>\n",
       "      <td>0.010864</td>\n",
       "      <td>-0.132481</td>\n",
       "      <td>0.254095</td>\n",
       "      <td>-0.016097</td>\n",
       "    </tr>\n",
       "    <tr>\n",
       "      <th>PRICE</th>\n",
       "      <td>-0.116231</td>\n",
       "      <td>0.340429</td>\n",
       "      <td>1.000000</td>\n",
       "      <td>-0.155513</td>\n",
       "      <td>0.001729</td>\n",
       "      <td>-0.073258</td>\n",
       "      <td>-0.197188</td>\n",
       "      <td>-0.039802</td>\n",
       "    </tr>\n",
       "    <tr>\n",
       "      <th>DRIVEN(IN KMS)</th>\n",
       "      <td>-0.083732</td>\n",
       "      <td>-0.570915</td>\n",
       "      <td>-0.155513</td>\n",
       "      <td>1.000000</td>\n",
       "      <td>0.014059</td>\n",
       "      <td>0.111590</td>\n",
       "      <td>-0.369804</td>\n",
       "      <td>0.020762</td>\n",
       "    </tr>\n",
       "    <tr>\n",
       "      <th>HISTORY</th>\n",
       "      <td>0.030557</td>\n",
       "      <td>0.010864</td>\n",
       "      <td>0.001729</td>\n",
       "      <td>0.014059</td>\n",
       "      <td>1.000000</td>\n",
       "      <td>-0.011896</td>\n",
       "      <td>0.012582</td>\n",
       "      <td>0.008165</td>\n",
       "    </tr>\n",
       "    <tr>\n",
       "      <th>OWNER</th>\n",
       "      <td>-0.034754</td>\n",
       "      <td>-0.132481</td>\n",
       "      <td>-0.073258</td>\n",
       "      <td>0.111590</td>\n",
       "      <td>-0.011896</td>\n",
       "      <td>1.000000</td>\n",
       "      <td>-0.065662</td>\n",
       "      <td>-0.008630</td>\n",
       "    </tr>\n",
       "    <tr>\n",
       "      <th>FUEL TYPE</th>\n",
       "      <td>0.061194</td>\n",
       "      <td>0.254095</td>\n",
       "      <td>-0.197188</td>\n",
       "      <td>-0.369804</td>\n",
       "      <td>0.012582</td>\n",
       "      <td>-0.065662</td>\n",
       "      <td>1.000000</td>\n",
       "      <td>-0.030060</td>\n",
       "    </tr>\n",
       "    <tr>\n",
       "      <th>LOCATION</th>\n",
       "      <td>0.028534</td>\n",
       "      <td>-0.016097</td>\n",
       "      <td>-0.039802</td>\n",
       "      <td>0.020762</td>\n",
       "      <td>0.008165</td>\n",
       "      <td>-0.008630</td>\n",
       "      <td>-0.030060</td>\n",
       "      <td>1.000000</td>\n",
       "    </tr>\n",
       "  </tbody>\n",
       "</table>\n",
       "</div>"
      ],
      "text/plain": [
       "                CARS NAME     MODEL     PRICE  DRIVEN(IN KMS)   HISTORY  \\\n",
       "CARS NAME        1.000000  0.179291 -0.116231       -0.083732  0.030557   \n",
       "MODEL            0.179291  1.000000  0.340429       -0.570915  0.010864   \n",
       "PRICE           -0.116231  0.340429  1.000000       -0.155513  0.001729   \n",
       "DRIVEN(IN KMS)  -0.083732 -0.570915 -0.155513        1.000000  0.014059   \n",
       "HISTORY          0.030557  0.010864  0.001729        0.014059  1.000000   \n",
       "OWNER           -0.034754 -0.132481 -0.073258        0.111590 -0.011896   \n",
       "FUEL TYPE        0.061194  0.254095 -0.197188       -0.369804  0.012582   \n",
       "LOCATION         0.028534 -0.016097 -0.039802        0.020762  0.008165   \n",
       "\n",
       "                   OWNER  FUEL TYPE  LOCATION  \n",
       "CARS NAME      -0.034754   0.061194  0.028534  \n",
       "MODEL          -0.132481   0.254095 -0.016097  \n",
       "PRICE          -0.073258  -0.197188 -0.039802  \n",
       "DRIVEN(IN KMS)  0.111590  -0.369804  0.020762  \n",
       "HISTORY        -0.011896   0.012582  0.008165  \n",
       "OWNER           1.000000  -0.065662 -0.008630  \n",
       "FUEL TYPE      -0.065662   1.000000 -0.030060  \n",
       "LOCATION       -0.008630  -0.030060  1.000000  "
      ]
     },
     "execution_count": 84,
     "metadata": {},
     "output_type": "execute_result"
    }
   ],
   "source": [
    "data.corr()"
   ]
  },
  {
   "cell_type": "code",
   "execution_count": 86,
   "id": "f722bbdb",
   "metadata": {},
   "outputs": [
    {
     "data": {
      "text/plain": [
       "<AxesSubplot:>"
      ]
     },
     "execution_count": 86,
     "metadata": {},
     "output_type": "execute_result"
    },
    {
     "data": {
      "image/png": "[encoded data removed]",
      "text/plain": [
       "<Figure size 720x432 with 2 Axes>"
      ]
     },
     "metadata": {
      "needs_background": "light"
     },
     "output_type": "display_data"
    }
   ],
   "source": [
    "plt.figure(figsize=(10,6))\n",
    "sns.heatmap(data.corr(),annot = True,linewidth=0.2,linecolor = 'black',fmt='0.2f')"
   ]
  },
  {
   "cell_type": "markdown",
   "id": "6434e02d",
   "metadata": {},
   "source": [
    "THE DATA SEEMS GOOD AND NOT CORRELATED WITH EACH OTHER MORE THAN 80% THAT MEANS NO NEED TO CHECK THE MULTICOLLINEARITY"
   ]
  },
  {
   "cell_type": "code",
   "execution_count": 87,
   "id": "82e3481e",
   "metadata": {},
   "outputs": [
    {
     "data": {
      "image/png": "[encoded data removed]",
      "text/plain": [
       "<Figure size 1440x1080 with 8 Axes>"
      ]
     },
     "metadata": {},
     "output_type": "display_data"
    }
   ],
   "source": [
    "plt.figure(figsize = (20,15),facecolor = \"white\")\n",
    "plotnumber = 1\n",
    "for column in data:\n",
    "    if plotnumber<=8:\n",
    "        ax=plt.subplot(3,3,plotnumber)\n",
    "        sns.distplot(data[column])\n",
    "        plt.xlabel(column,fontsize=14)\n",
    "        \n",
    "    plotnumber+=1\n",
    "plt.show()"
   ]
  },
  {
   "cell_type": "code",
   "execution_count": 88,
   "id": "b3b3e19f",
   "metadata": {},
   "outputs": [],
   "source": [
    "# seprating the columns into features and target\n",
    "x= data.drop(\"PRICE\",axis=1)\n",
    "y= data[\"PRICE\"]"
   ]
  },
  {
   "cell_type": "code",
   "execution_count": 92,
   "id": "0790014e",
   "metadata": {},
   "outputs": [],
   "source": [
    "from sklearn.preprocessing import StandardScaler\n",
    "sc = StandardScaler()\n",
    "x= sc.fit_transform(x)"
   ]
  },
  {
   "cell_type": "markdown",
   "id": "e89fadfe",
   "metadata": {},
   "source": [
    "# So Now we are ready to build our model to predict the SALEPRICE"
   ]
  },
  {
   "cell_type": "markdown",
   "id": "c2885cf8",
   "metadata": {},
   "source": [
    "# 1)WITH LINEAR REGRESSION"
   ]
  },
  {
   "cell_type": "code",
   "execution_count": 91,
   "id": "26c8f37b",
   "metadata": {},
   "outputs": [],
   "source": [
    "from sklearn.linear_model import LinearRegression\n",
    "lr = LinearRegression()\n",
    "from sklearn.metrics import r2_score\n",
    "from sklearn.model_selection import train_test_split"
   ]
  },
  {
   "cell_type": "code",
   "execution_count": 93,
   "id": "069ee1ed",
   "metadata": {},
   "outputs": [
    {
     "name": "stdout",
     "output_type": "stream",
     "text": [
      "At random state 0 the training accuracy is {0.2420299737284981}\n",
      "At random state 0 the testing accuracy is {0.21986650428512478}\n",
      "\n",
      "\n",
      "At random state 1 the training accuracy is {0.2279163531484094}\n",
      "At random state 1 the testing accuracy is {0.2605455601163126}\n",
      "\n",
      "\n",
      "At random state 2 the training accuracy is {0.2415541781530265}\n",
      "At random state 2 the testing accuracy is {0.2209391706096404}\n",
      "\n",
      "\n",
      "At random state 3 the training accuracy is {0.24500287518442354}\n",
      "At random state 3 the testing accuracy is {0.21011171849678134}\n",
      "\n",
      "\n",
      "At random state 4 the training accuracy is {0.23727189080466615}\n",
      "At random state 4 the testing accuracy is {0.2324420795446367}\n",
      "\n",
      "\n",
      "At random state 5 the training accuracy is {0.2310206282086784}\n",
      "At random state 5 the testing accuracy is {0.2507716868476433}\n",
      "\n",
      "\n",
      "At random state 6 the training accuracy is {0.23356735016539432}\n",
      "At random state 6 the testing accuracy is {0.2423582689957242}\n",
      "\n",
      "\n",
      "At random state 7 the training accuracy is {0.23180701622055055}\n",
      "At random state 7 the testing accuracy is {0.2477057001463978}\n",
      "\n",
      "\n",
      "At random state 8 the training accuracy is {0.2389638915656952}\n",
      "At random state 8 the testing accuracy is {0.22803648685219646}\n",
      "\n",
      "\n",
      "At random state 9 the training accuracy is {0.22984749897777856}\n",
      "At random state 9 the testing accuracy is {0.2558252452644103}\n",
      "\n",
      "\n",
      "At random state 10 the training accuracy is {0.238087612301341}\n",
      "At random state 10 the testing accuracy is {0.22823107876601367}\n",
      "\n",
      "\n",
      "At random state 11 the training accuracy is {0.24975435473848617}\n",
      "At random state 11 the testing accuracy is {0.19427088997920516}\n",
      "\n",
      "\n",
      "At random state 12 the training accuracy is {0.23677820416365825}\n",
      "At random state 12 the testing accuracy is {0.23438393932365265}\n",
      "\n",
      "\n",
      "At random state 13 the training accuracy is {0.2413834400606747}\n",
      "At random state 13 the testing accuracy is {0.22126964531458204}\n",
      "\n",
      "\n",
      "At random state 14 the training accuracy is {0.24301557752055958}\n",
      "At random state 14 the testing accuracy is {0.21568209545898598}\n",
      "\n",
      "\n",
      "At random state 15 the training accuracy is {0.24212861103877437}\n",
      "At random state 15 the testing accuracy is {0.19173668035154912}\n",
      "\n",
      "\n",
      "At random state 16 the training accuracy is {0.24352023939695022}\n",
      "At random state 16 the testing accuracy is {0.2095135915839641}\n",
      "\n",
      "\n",
      "At random state 17 the training accuracy is {0.234187613933171}\n",
      "At random state 17 the testing accuracy is {0.24218041921793265}\n",
      "\n",
      "\n",
      "At random state 18 the training accuracy is {0.23378927828253715}\n",
      "At random state 18 the testing accuracy is {0.24280856313293708}\n",
      "\n",
      "\n",
      "At random state 19 the training accuracy is {0.24610682700462305}\n",
      "At random state 19 the testing accuracy is {0.20031023773455237}\n",
      "\n",
      "\n",
      "At random state 20 the training accuracy is {0.2431530087766508}\n",
      "At random state 20 the testing accuracy is {0.21332839372618273}\n",
      "\n",
      "\n",
      "At random state 21 the training accuracy is {0.24236104389351465}\n",
      "At random state 21 the testing accuracy is {0.21593312114668672}\n",
      "\n",
      "\n",
      "At random state 22 the training accuracy is {0.2360716520448356}\n",
      "At random state 22 the testing accuracy is {0.2359857305893398}\n",
      "\n",
      "\n",
      "At random state 23 the training accuracy is {0.23219054617532342}\n",
      "At random state 23 the testing accuracy is {0.2468981773861918}\n",
      "\n",
      "\n",
      "At random state 24 the training accuracy is {0.23093649047437115}\n",
      "At random state 24 the testing accuracy is {0.25211215647793606}\n",
      "\n",
      "\n",
      "At random state 25 the training accuracy is {0.22553602182192745}\n",
      "At random state 25 the testing accuracy is {0.27231685751593426}\n",
      "\n",
      "\n",
      "At random state 26 the training accuracy is {0.24562125259490053}\n",
      "At random state 26 the testing accuracy is {0.2069888076360884}\n",
      "\n",
      "\n",
      "At random state 27 the training accuracy is {0.24116241896932833}\n",
      "At random state 27 the testing accuracy is {0.2204747193660287}\n",
      "\n",
      "\n",
      "At random state 28 the training accuracy is {0.22957366188767248}\n",
      "At random state 28 the testing accuracy is {0.25614878248966266}\n",
      "\n",
      "\n",
      "At random state 29 the training accuracy is {0.2345602487059506}\n",
      "At random state 29 the testing accuracy is {0.23890030574003807}\n",
      "\n",
      "\n",
      "At random state 30 the training accuracy is {0.23884512539220226}\n",
      "At random state 30 the testing accuracy is {0.22735052818630708}\n",
      "\n",
      "\n",
      "At random state 31 the training accuracy is {0.22592725792449575}\n",
      "At random state 31 the testing accuracy is {0.25587413982395124}\n",
      "\n",
      "\n",
      "At random state 32 the training accuracy is {0.24693077044453227}\n",
      "At random state 32 the testing accuracy is {0.19858624477099585}\n",
      "\n",
      "\n",
      "At random state 33 the training accuracy is {0.2370020724478955}\n",
      "At random state 33 the testing accuracy is {0.23470517091429866}\n",
      "\n",
      "\n",
      "At random state 34 the training accuracy is {0.23165327915724931}\n",
      "At random state 34 the testing accuracy is {0.2501207069867676}\n",
      "\n",
      "\n",
      "At random state 35 the training accuracy is {0.22115345758505744}\n",
      "At random state 35 the testing accuracy is {0.26157696247415774}\n",
      "\n",
      "\n",
      "At random state 36 the training accuracy is {0.2549301143164807}\n",
      "At random state 36 the testing accuracy is {0.18135560835279285}\n",
      "\n",
      "\n",
      "At random state 37 the training accuracy is {0.23486091800700937}\n",
      "At random state 37 the testing accuracy is {0.2398806014550613}\n",
      "\n",
      "\n",
      "At random state 38 the training accuracy is {0.23886627218932466}\n",
      "At random state 38 the testing accuracy is {0.22862236836322936}\n",
      "\n",
      "\n",
      "At random state 39 the training accuracy is {0.2511658970668931}\n",
      "At random state 39 the testing accuracy is {0.18847974977414106}\n",
      "\n",
      "\n",
      "At random state 40 the training accuracy is {0.24002887989483523}\n",
      "At random state 40 the testing accuracy is {0.22450489500582238}\n",
      "\n",
      "\n",
      "At random state 41 the training accuracy is {0.2320665451501286}\n",
      "At random state 41 the testing accuracy is {0.24984959951306285}\n",
      "\n",
      "\n",
      "At random state 42 the training accuracy is {0.22721426374935583}\n",
      "At random state 42 the testing accuracy is {0.2612372067883304}\n",
      "\n",
      "\n",
      "At random state 43 the training accuracy is {0.24426551144942454}\n",
      "At random state 43 the testing accuracy is {0.21379549934833297}\n",
      "\n",
      "\n",
      "At random state 44 the training accuracy is {0.23218161994510467}\n",
      "At random state 44 the testing accuracy is {0.24695911545242843}\n",
      "\n",
      "\n",
      "At random state 45 the training accuracy is {0.23490143825142207}\n",
      "At random state 45 the testing accuracy is {0.2408546639824508}\n",
      "\n",
      "\n",
      "At random state 46 the training accuracy is {0.24982582337379933}\n",
      "At random state 46 the testing accuracy is {0.19658696974148548}\n",
      "\n",
      "\n",
      "At random state 47 the training accuracy is {0.23783473078393058}\n",
      "At random state 47 the testing accuracy is {0.22918420367727133}\n",
      "\n",
      "\n",
      "At random state 48 the training accuracy is {0.2304548104254185}\n",
      "At random state 48 the testing accuracy is {0.25470402729097186}\n",
      "\n",
      "\n",
      "At random state 49 the training accuracy is {0.23950224903388495}\n",
      "At random state 49 the testing accuracy is {0.22741653590062205}\n",
      "\n",
      "\n",
      "At random state 50 the training accuracy is {0.24311040381396365}\n",
      "At random state 50 the testing accuracy is {0.2152913532067221}\n",
      "\n",
      "\n",
      "At random state 51 the training accuracy is {0.22804259881452504}\n",
      "At random state 51 the testing accuracy is {0.26294492626997434}\n",
      "\n",
      "\n",
      "At random state 52 the training accuracy is {0.2402912691832051}\n",
      "At random state 52 the testing accuracy is {0.2222350412093701}\n",
      "\n",
      "\n",
      "At random state 53 the training accuracy is {0.23680536818627285}\n",
      "At random state 53 the testing accuracy is {0.2319568131246268}\n",
      "\n",
      "\n",
      "At random state 54 the training accuracy is {0.23771872242730763}\n",
      "At random state 54 the testing accuracy is {0.23282672618016398}\n",
      "\n",
      "\n",
      "At random state 55 the training accuracy is {0.2396000080110562}\n",
      "At random state 55 the testing accuracy is {0.22489131947772778}\n",
      "\n",
      "\n",
      "At random state 56 the training accuracy is {0.24092981767032162}\n",
      "At random state 56 the testing accuracy is {0.21989482864467746}\n",
      "\n",
      "\n",
      "At random state 57 the training accuracy is {0.23800520287143212}\n",
      "At random state 57 the testing accuracy is {0.231115965844519}\n",
      "\n",
      "\n",
      "At random state 58 the training accuracy is {0.23514597379601887}\n",
      "At random state 58 the testing accuracy is {0.23867192106568336}\n",
      "\n",
      "\n",
      "At random state 59 the training accuracy is {0.24287097773203736}\n",
      "At random state 59 the testing accuracy is {0.21521701059417764}\n",
      "\n",
      "\n",
      "At random state 60 the training accuracy is {0.2311591496399873}\n",
      "At random state 60 the testing accuracy is {0.25133344306083794}\n",
      "\n",
      "\n",
      "At random state 61 the training accuracy is {0.23901341247869}\n",
      "At random state 61 the testing accuracy is {0.22718469243558603}\n",
      "\n",
      "\n",
      "At random state 62 the training accuracy is {0.2387329522995153}\n",
      "At random state 62 the testing accuracy is {0.2291998309654214}\n",
      "\n",
      "\n",
      "At random state 63 the training accuracy is {0.2276722043503504}\n",
      "At random state 63 the testing accuracy is {0.259074973356048}\n",
      "\n",
      "\n",
      "At random state 64 the training accuracy is {0.2305214153400751}\n",
      "At random state 64 the testing accuracy is {0.25412323064969644}\n",
      "\n",
      "\n",
      "At random state 65 the training accuracy is {0.23237394302339376}\n",
      "At random state 65 the testing accuracy is {0.24939512397551966}\n",
      "\n",
      "\n",
      "At random state 66 the training accuracy is {0.22607403299314577}\n",
      "At random state 66 the testing accuracy is {0.2644527944910121}\n",
      "\n",
      "\n",
      "At random state 67 the training accuracy is {0.22810248040705328}\n",
      "At random state 67 the testing accuracy is {0.2618793153225729}\n",
      "\n",
      "\n",
      "At random state 68 the training accuracy is {0.23501625861899433}\n",
      "At random state 68 the testing accuracy is {0.24004414083580172}\n",
      "\n",
      "\n",
      "At random state 69 the training accuracy is {0.2416773893591997}\n",
      "At random state 69 the testing accuracy is {0.22113246177936996}\n",
      "\n",
      "\n",
      "At random state 70 the training accuracy is {0.239439233317438}\n",
      "At random state 70 the testing accuracy is {0.224814054587399}\n",
      "\n",
      "\n",
      "At random state 71 the training accuracy is {0.23447005554855527}\n",
      "At random state 71 the testing accuracy is {0.24247485249959433}\n",
      "\n",
      "\n",
      "At random state 72 the training accuracy is {0.23283996309413602}\n",
      "At random state 72 the testing accuracy is {0.24613572490029756}\n",
      "\n",
      "\n",
      "At random state 73 the training accuracy is {0.2406797215006954}\n",
      "At random state 73 the testing accuracy is {0.2247712667690398}\n",
      "\n",
      "\n",
      "At random state 74 the training accuracy is {0.23324202292803065}\n",
      "At random state 74 the testing accuracy is {0.2431145850742763}\n",
      "\n",
      "\n",
      "At random state 75 the training accuracy is {0.23485278852192826}\n",
      "At random state 75 the testing accuracy is {0.2399245002376167}\n",
      "\n",
      "\n",
      "At random state 76 the training accuracy is {0.22624650083025943}\n",
      "At random state 76 the testing accuracy is {0.2662165843113826}\n",
      "\n",
      "\n",
      "At random state 77 the training accuracy is {0.2426164844260601}\n",
      "At random state 77 the testing accuracy is {0.20824556283069473}\n",
      "\n",
      "\n",
      "At random state 78 the training accuracy is {0.23437258901574654}\n",
      "At random state 78 the testing accuracy is {0.24177177152309148}\n",
      "\n",
      "\n",
      "At random state 79 the training accuracy is {0.23055052186181146}\n",
      "At random state 79 the testing accuracy is {0.2535957339815381}\n",
      "\n",
      "\n",
      "At random state 80 the training accuracy is {0.2256891579182968}\n",
      "At random state 80 the testing accuracy is {0.2657186525372488}\n",
      "\n",
      "\n",
      "At random state 81 the training accuracy is {0.24332315058658482}\n",
      "At random state 81 the testing accuracy is {0.21545440768507373}\n",
      "\n",
      "\n",
      "At random state 82 the training accuracy is {0.2293796507432475}\n",
      "At random state 82 the testing accuracy is {0.2554180975916701}\n",
      "\n",
      "\n",
      "At random state 83 the training accuracy is {0.23423111706873379}\n",
      "At random state 83 the testing accuracy is {0.24363589617122672}\n",
      "\n",
      "\n",
      "At random state 84 the training accuracy is {0.23671633593221186}\n",
      "At random state 84 the testing accuracy is {0.23126101260195364}\n",
      "\n",
      "\n",
      "At random state 85 the training accuracy is {0.226843216546187}\n",
      "At random state 85 the testing accuracy is {0.26225115518707}\n",
      "\n",
      "\n",
      "At random state 86 the training accuracy is {0.2369530389622576}\n",
      "At random state 86 the testing accuracy is {0.23313571975916392}\n",
      "\n",
      "\n",
      "At random state 87 the training accuracy is {0.24607843312913413}\n",
      "At random state 87 the testing accuracy is {0.20824276871156044}\n",
      "\n",
      "\n",
      "At random state 88 the training accuracy is {0.23988399476701128}\n",
      "At random state 88 the testing accuracy is {0.2259639218413656}\n",
      "\n",
      "\n",
      "At random state 89 the training accuracy is {0.24990549740009493}\n",
      "At random state 89 the testing accuracy is {0.19556957989158785}\n",
      "\n",
      "\n",
      "At random state 90 the training accuracy is {0.23543216020511126}\n",
      "At random state 90 the testing accuracy is {0.23781943408064832}\n",
      "\n",
      "\n",
      "At random state 91 the training accuracy is {0.23896850762616417}\n",
      "At random state 91 the testing accuracy is {0.22891393827912965}\n",
      "\n",
      "\n",
      "At random state 92 the training accuracy is {0.22450958831676704}\n",
      "At random state 92 the testing accuracy is {0.27306327901435923}\n",
      "\n",
      "\n",
      "At random state 93 the training accuracy is {0.2408336384062657}\n",
      "At random state 93 the testing accuracy is {0.22251111774471855}\n",
      "\n",
      "\n",
      "At random state 94 the training accuracy is {0.2346813692655686}\n",
      "At random state 94 the testing accuracy is {0.24139294544273737}\n",
      "\n",
      "\n",
      "At random state 95 the training accuracy is {0.23473450106866212}\n",
      "At random state 95 the testing accuracy is {0.24079672555720955}\n",
      "\n",
      "\n",
      "At random state 96 the training accuracy is {0.245611732597119}\n",
      "At random state 96 the testing accuracy is {0.2102448093242636}\n",
      "\n",
      "\n",
      "At random state 97 the training accuracy is {0.24202090848125057}\n",
      "At random state 97 the testing accuracy is {0.21901761208649417}\n",
      "\n",
      "\n",
      "At random state 98 the training accuracy is {0.2306116025338576}\n",
      "At random state 98 the testing accuracy is {0.2514179152946425}\n",
      "\n",
      "\n",
      "At random state 99 the training accuracy is {0.23512751101098095}\n",
      "At random state 99 the testing accuracy is {0.23886176835235873}\n",
      "\n",
      "\n"
     ]
    }
   ],
   "source": [
    "for i in range(0,100):\n",
    "    x_train,x_test,y_train,y_test=train_test_split(x,y,test_size=0.25,random_state=i)\n",
    "    lr.fit(x_train,y_train)\n",
    "    pred_train = lr.predict(x_train)\n",
    "    pred_test = lr.predict(x_test)\n",
    "    print(\"At random state\",i , \"the training accuracy is\",  {r2_score(y_train,pred_train)})\n",
    "    \n",
    "    print(\"At random state\",i , \"the testing accuracy is\" , {r2_score(y_test,pred_test)})\n",
    "    print(\"\\n\")"
   ]
  },
  {
   "cell_type": "code",
   "execution_count": 94,
   "id": "239ba8c7",
   "metadata": {},
   "outputs": [],
   "source": [
    "x_train, x_test, y_train, y_test=train_test_split(x,y,test_size=.25,random_state=43)"
   ]
  },
  {
   "cell_type": "code",
   "execution_count": 95,
   "id": "57d2c86f",
   "metadata": {},
   "outputs": [
    {
     "name": "stdout",
     "output_type": "stream",
     "text": [
      "Accuracy 21.379549934833296\n"
     ]
    }
   ],
   "source": [
    "lr = LinearRegression()\n",
    "lr.fit(x_train,y_train)\n",
    "pred_lr=lr.predict(x_test)\n",
    "print(\"Accuracy\",r2_score(y_test,pred_lr)*100)\n"
   ]
  },
  {
   "cell_type": "code",
   "execution_count": 96,
   "id": "c6406af6",
   "metadata": {},
   "outputs": [],
   "source": [
    "from sklearn.model_selection import cross_val_score"
   ]
  },
  {
   "cell_type": "code",
   "execution_count": 97,
   "id": "feb75bc7",
   "metadata": {},
   "outputs": [
    {
     "name": "stdout",
     "output_type": "stream",
     "text": [
      "Cross Validation Score of Linear regression model is :-  0.23184253242504504\n"
     ]
    }
   ],
   "source": [
    "scr_lr = cross_val_score(lr,x,y,cv=6)\n",
    "print(\"Cross Validation Score of Linear regression model is :- \",scr_lr.mean())"
   ]
  },
  {
   "cell_type": "code",
   "execution_count": 98,
   "id": "918fc16b",
   "metadata": {},
   "outputs": [],
   "source": [
    "from sklearn import metrics"
   ]
  },
  {
   "cell_type": "code",
   "execution_count": 99,
   "id": "132593a8",
   "metadata": {},
   "outputs": [],
   "source": [
    "MAE = metrics.mean_absolute_error(y_test,pred_lr)\n",
    "MSE = metrics.mean_squared_error(y_test,pred_lr)"
   ]
  },
  {
   "cell_type": "code",
   "execution_count": 100,
   "id": "1c806edd",
   "metadata": {},
   "outputs": [
    {
     "name": "stdout",
     "output_type": "stream",
     "text": [
      "mean absolute error: 251710.79487631106\n",
      "mean squared error: 135810285213.9282\n"
     ]
    }
   ],
   "source": [
    "print(\"mean absolute error:\",MAE)\n",
    "print(\"mean squared error:\",MSE)"
   ]
  },
  {
   "cell_type": "code",
   "execution_count": 101,
   "id": "72b474cc",
   "metadata": {},
   "outputs": [
    {
     "name": "stdout",
     "output_type": "stream",
     "text": [
      "Root Mean Squared Error: 368524.47030547133\n"
     ]
    }
   ],
   "source": [
    "from math import sqrt\n",
    "rmse = sqrt(MSE)\n",
    "print(\"Root Mean Squared Error:\",rmse)"
   ]
  },
  {
   "cell_type": "markdown",
   "id": "fb79097c",
   "metadata": {},
   "source": [
    "# 2) WITH LASSO"
   ]
  },
  {
   "cell_type": "code",
   "execution_count": 102,
   "id": "39dd62c8",
   "metadata": {},
   "outputs": [],
   "source": [
    "from sklearn.linear_model import Lasso"
   ]
  },
  {
   "cell_type": "code",
   "execution_count": 103,
   "id": "528b6176",
   "metadata": {},
   "outputs": [],
   "source": [
    "from sklearn.model_selection import GridSearchCV"
   ]
  },
  {
   "cell_type": "code",
   "execution_count": 104,
   "id": "29d19d78",
   "metadata": {},
   "outputs": [
    {
     "name": "stdout",
     "output_type": "stream",
     "text": [
      "{'alpha': 10, 'random_state': 2}\n"
     ]
    }
   ],
   "source": [
    "from sklearn.linear_model import Lasso\n",
    "parameters = {'alpha':[.0001,.001,.01,.1,1,10],'random_state':list(range(2,10))}\n",
    "\n",
    "ls = Lasso()\n",
    "clf = GridSearchCV(ls,parameters)\n",
    "clf.fit(x_train,y_train)\n",
    "\n",
    "print(clf.best_params_)"
   ]
  },
  {
   "cell_type": "code",
   "execution_count": 105,
   "id": "3b3d230a",
   "metadata": {},
   "outputs": [],
   "source": [
    "ls = Lasso(alpha=10,random_state=2)\n",
    "ls.fit(x_train,y_train)\n",
    "ls.score(x_train,y_train)\n",
    "pred_ls = ls.predict(x_test)\n"
   ]
  },
  {
   "cell_type": "code",
   "execution_count": 106,
   "id": "4b1c9e1e",
   "metadata": {},
   "outputs": [
    {
     "data": {
      "text/plain": [
       "0.21379413017857707"
      ]
     },
     "execution_count": 106,
     "metadata": {},
     "output_type": "execute_result"
    }
   ],
   "source": [
    "lss = r2_score(y_test,pred_ls)\n",
    "lss"
   ]
  },
  {
   "cell_type": "code",
   "execution_count": 107,
   "id": "b1b94117",
   "metadata": {},
   "outputs": [
    {
     "name": "stdout",
     "output_type": "stream",
     "text": [
      "Cross Validation Score of Linear regression model is :-  0.23184377965506375\n"
     ]
    }
   ],
   "source": [
    "scr_ls = cross_val_score(ls,x,y,cv=6)\n",
    "print(\"Cross Validation Score of Linear regression model is :- \",scr_ls.mean())"
   ]
  },
  {
   "cell_type": "code",
   "execution_count": 109,
   "id": "e4ce1818",
   "metadata": {},
   "outputs": [],
   "source": [
    "MAE = metrics.mean_absolute_error(y_test,pred_ls)\n",
    "MSE = metrics.mean_squared_error(y_test,pred_ls)"
   ]
  },
  {
   "cell_type": "code",
   "execution_count": 110,
   "id": "6a9d79bd",
   "metadata": {},
   "outputs": [
    {
     "name": "stdout",
     "output_type": "stream",
     "text": [
      "mean absolute error: 251708.67658282985\n",
      "mean squared error: 135810521726.61023\n"
     ]
    }
   ],
   "source": [
    "print(\"mean absolute error:\",MAE)\n",
    "print(\"mean squared error:\",MSE)"
   ]
  },
  {
   "cell_type": "code",
   "execution_count": 111,
   "id": "272f5ccd",
   "metadata": {},
   "outputs": [
    {
     "name": "stdout",
     "output_type": "stream",
     "text": [
      "Root Mean Squared Error: 368524.79119675275\n"
     ]
    }
   ],
   "source": [
    "from math import sqrt\n",
    "rmse = sqrt(MSE)\n",
    "print(\"Root Mean Squared Error:\",rmse)"
   ]
  },
  {
   "cell_type": "markdown",
   "id": "63a807af",
   "metadata": {},
   "source": [
    "# 3) WITH RANDOMFOREST REGRESSOR"
   ]
  },
  {
   "cell_type": "code",
   "execution_count": 112,
   "id": "c46432f0",
   "metadata": {},
   "outputs": [],
   "source": [
    "from sklearn.ensemble import RandomForestRegressor"
   ]
  },
  {
   "cell_type": "code",
   "execution_count": 113,
   "id": "c4f1804e",
   "metadata": {},
   "outputs": [],
   "source": [
    "rf = RandomForestRegressor(criterion=\"mae\",max_features=\"auto\",max_depth=4,min_samples_leaf=4)\n",
    "rf.fit(x_train,y_train)\n",
    "rf.score(x_train,y_train)\n",
    "pred_dec = rf.predict(x_test)"
   ]
  },
  {
   "cell_type": "code",
   "execution_count": 114,
   "id": "bd4e35bc",
   "metadata": {},
   "outputs": [
    {
     "name": "stdout",
     "output_type": "stream",
     "text": [
      "R2 Score: 55.10864881066373\n",
      "Cross val Score : 53.5593912910877\n"
     ]
    }
   ],
   "source": [
    "rfs = r2_score(y_test,pred_dec)\n",
    "print('R2 Score:',rfs*100)\n",
    "rf_score = cross_val_score(rf,x,y,cv=5)\n",
    "rfc = rf_score.mean()\n",
    "print(\"Cross val Score :\",rfc*100)"
   ]
  },
  {
   "cell_type": "code",
   "execution_count": 115,
   "id": "95d87223",
   "metadata": {},
   "outputs": [],
   "source": [
    "MAE = metrics.mean_absolute_error(y_test,pred_dec)\n",
    "MSE = metrics.mean_squared_error(y_test,pred_dec)"
   ]
  },
  {
   "cell_type": "code",
   "execution_count": 116,
   "id": "d823dd81",
   "metadata": {},
   "outputs": [
    {
     "name": "stdout",
     "output_type": "stream",
     "text": [
      "mean absolute error: 173161.16959087332\n",
      "mean squared error: 77546073618.3646\n"
     ]
    }
   ],
   "source": [
    "print(\"mean absolute error:\",MAE)\n",
    "print(\"mean squared error:\",MSE)"
   ]
  },
  {
   "cell_type": "code",
   "execution_count": 117,
   "id": "d7f0848b",
   "metadata": {},
   "outputs": [
    {
     "name": "stdout",
     "output_type": "stream",
     "text": [
      "Root Mean Squared Error: 278470.956507792\n"
     ]
    }
   ],
   "source": [
    "from math import sqrt\n",
    "rmse = sqrt(MSE)\n",
    "print(\"Root Mean Squared Error:\",rmse)"
   ]
  },
  {
   "cell_type": "markdown",
   "id": "da6e83dc",
   "metadata": {},
   "source": [
    "# 4) WITH ADABOOST REGRESSOR"
   ]
  },
  {
   "cell_type": "code",
   "execution_count": 118,
   "id": "2e364ea7",
   "metadata": {},
   "outputs": [],
   "source": [
    "from sklearn.ensemble import AdaBoostRegressor\n",
    "from sklearn.model_selection import RandomizedSearchCV"
   ]
  },
  {
   "cell_type": "code",
   "execution_count": 119,
   "id": "ad6d62c6",
   "metadata": {},
   "outputs": [],
   "source": [
    "params = {'n_estimators':[47,50,60,70],'learning_rate':[0.25,0.30,0.40]}"
   ]
  },
  {
   "cell_type": "code",
   "execution_count": 120,
   "id": "954882dc",
   "metadata": {},
   "outputs": [],
   "source": [
    "rnd_srch = RandomizedSearchCV(AdaBoostRegressor(),cv=3,param_distributions=params)"
   ]
  },
  {
   "cell_type": "code",
   "execution_count": 121,
   "id": "9f39317a",
   "metadata": {},
   "outputs": [
    {
     "data": {
      "text/plain": [
       "RandomizedSearchCV(cv=3, estimator=AdaBoostRegressor(),\n",
       "                   param_distributions={'learning_rate': [0.25, 0.3, 0.4],\n",
       "                                        'n_estimators': [47, 50, 60, 70]})"
      ]
     },
     "execution_count": 121,
     "metadata": {},
     "output_type": "execute_result"
    }
   ],
   "source": [
    "rnd_srch.fit(x_train,y_train)"
   ]
  },
  {
   "cell_type": "code",
   "execution_count": 122,
   "id": "d8b68138",
   "metadata": {},
   "outputs": [
    {
     "data": {
      "text/plain": [
       "AdaBoostRegressor(learning_rate=0.25, n_estimators=47)"
      ]
     },
     "execution_count": 122,
     "metadata": {},
     "output_type": "execute_result"
    }
   ],
   "source": [
    "rnd_srch.best_estimator_"
   ]
  },
  {
   "cell_type": "code",
   "execution_count": 123,
   "id": "81bc4536",
   "metadata": {},
   "outputs": [],
   "source": [
    "ada = AdaBoostRegressor(learning_rate=0.25,n_estimators=47)"
   ]
  },
  {
   "cell_type": "code",
   "execution_count": 124,
   "id": "6bc0b8b7",
   "metadata": {},
   "outputs": [
    {
     "data": {
      "text/plain": [
       "AdaBoostRegressor(learning_rate=0.25, n_estimators=47)"
      ]
     },
     "execution_count": 124,
     "metadata": {},
     "output_type": "execute_result"
    }
   ],
   "source": [
    "ada.fit(x_train,y_train)"
   ]
  },
  {
   "cell_type": "code",
   "execution_count": 125,
   "id": "a2624b9c",
   "metadata": {},
   "outputs": [
    {
     "name": "stdout",
     "output_type": "stream",
     "text": [
      "0.5403771424971514\n"
     ]
    }
   ],
   "source": [
    "y_pred = ada.predict(x_test)\n",
    "\n",
    "print(r2_score(y_test,y_pred))"
   ]
  },
  {
   "cell_type": "code",
   "execution_count": 126,
   "id": "a0537d5a",
   "metadata": {},
   "outputs": [
    {
     "data": {
      "text/plain": [
       "0.5091987735374637"
      ]
     },
     "execution_count": 126,
     "metadata": {},
     "output_type": "execute_result"
    }
   ],
   "source": [
    "cv_score = cross_val_score(ada,x,y,cv=5)\n",
    "cv_mean = cv_score.mean()\n",
    "cv_mean"
   ]
  },
  {
   "cell_type": "code",
   "execution_count": 127,
   "id": "67e243a7",
   "metadata": {},
   "outputs": [],
   "source": [
    "MAE = metrics.mean_absolute_error(y_test,y_pred)\n",
    "MSE = metrics.mean_squared_error(y_test,y_pred)"
   ]
  },
  {
   "cell_type": "code",
   "execution_count": 128,
   "id": "3b5ff1b4",
   "metadata": {},
   "outputs": [
    {
     "name": "stdout",
     "output_type": "stream",
     "text": [
      "mean absolute error: 210310.98190789076\n",
      "mean squared error: 79396023956.31516\n"
     ]
    }
   ],
   "source": [
    "print(\"mean absolute error:\",MAE)\n",
    "print(\"mean squared error:\",MSE)"
   ]
  },
  {
   "cell_type": "code",
   "execution_count": 129,
   "id": "0cb496a8",
   "metadata": {},
   "outputs": [
    {
     "name": "stdout",
     "output_type": "stream",
     "text": [
      "Root Mean Squared Error: 281773.00075826136\n"
     ]
    }
   ],
   "source": [
    "from math import sqrt\n",
    "rmse = sqrt(MSE)\n",
    "print(\"Root Mean Squared Error:\",rmse)"
   ]
  },
  {
   "cell_type": "markdown",
   "id": "b3607d7f",
   "metadata": {},
   "source": [
    "# 5) WITH GRADIENT BOOSTING REGRESSOR"
   ]
  },
  {
   "cell_type": "code",
   "execution_count": 130,
   "id": "64453e09",
   "metadata": {},
   "outputs": [],
   "source": [
    "from sklearn.ensemble import GradientBoostingRegressor"
   ]
  },
  {
   "cell_type": "code",
   "execution_count": 131,
   "id": "5d8b1f20",
   "metadata": {},
   "outputs": [
    {
     "name": "stdout",
     "output_type": "stream",
     "text": [
      "Accuracy 80.49131155846158\n"
     ]
    }
   ],
   "source": [
    "gbd = GradientBoostingRegressor()\n",
    "gbd.fit(x_train,y_train)\n",
    "pred_gbd=gbd.predict(x_test)\n",
    "print(\"Accuracy\",r2_score(y_test,pred_gbd)*100)"
   ]
  },
  {
   "cell_type": "code",
   "execution_count": 132,
   "id": "7fd9b0e5",
   "metadata": {},
   "outputs": [
    {
     "data": {
      "text/plain": [
       "0.7947145206871081"
      ]
     },
     "execution_count": 132,
     "metadata": {},
     "output_type": "execute_result"
    }
   ],
   "source": [
    "cv_score = cross_val_score(gbd,x,y,cv=5)\n",
    "cv_mean = cv_score.mean()\n",
    "cv_mean"
   ]
  },
  {
   "cell_type": "code",
   "execution_count": 133,
   "id": "61560ccf",
   "metadata": {},
   "outputs": [],
   "source": [
    "MAE = metrics.mean_absolute_error(y_test,pred_gbd)\n",
    "MSE = metrics.mean_squared_error(y_test,pred_gbd)"
   ]
  },
  {
   "cell_type": "code",
   "execution_count": 134,
   "id": "091467b4",
   "metadata": {},
   "outputs": [
    {
     "name": "stdout",
     "output_type": "stream",
     "text": [
      "mean absolute error: 121391.7650437166\n",
      "mean squared error: 33699635898.788467\n"
     ]
    }
   ],
   "source": [
    "print(\"mean absolute error:\",MAE)\n",
    "print(\"mean squared error:\",MSE)"
   ]
  },
  {
   "cell_type": "code",
   "execution_count": 135,
   "id": "68d24c19",
   "metadata": {},
   "outputs": [
    {
     "name": "stdout",
     "output_type": "stream",
     "text": [
      "Root Mean Squared Error: 183574.6058113389\n"
     ]
    }
   ],
   "source": [
    "from math import sqrt\n",
    "rmse = sqrt(MSE)\n",
    "print(\"Root Mean Squared Error:\",rmse)"
   ]
  },
  {
   "cell_type": "markdown",
   "id": "a9c3b355",
   "metadata": {},
   "source": [
    "# SO THE  DIFFERENCE BETWEEN THE CROSS VAL SCORE AND THE ACCUARCY SCORE IS MINIMUM FOR THE  GBDT algo AND IT ALSO GIVE BEST ACCURACY, AS WELL AS HAVING LESS MEAN SQUARED ERROR THAN OTHERS THTAS Y  WE USED THIS ALGO FOR PREDICTION"
   ]
  },
  {
   "cell_type": "code",
   "execution_count": null,
   "id": "5fdd9546",
   "metadata": {},
   "outputs": [],
   "source": []
  },
  {
   "cell_type": "markdown",
   "id": "828e55ab",
   "metadata": {},
   "source": [
    "# BUT BEFORE USED HYPERPARAMETER TUNING WITH GRIDSEARCHCV on gbd"
   ]
  },
  {
   "cell_type": "code",
   "execution_count": 137,
   "id": "2677f7b2",
   "metadata": {},
   "outputs": [
    {
     "data": {
      "text/plain": [
       "GridSearchCV(estimator=GradientBoostingRegressor(),\n",
       "             param_grid={'learning_rate': array([0.1]),\n",
       "                         'max_depth': range(4, 8),\n",
       "                         'min_samples_split': range(2, 8, 2)})"
      ]
     },
     "execution_count": 137,
     "metadata": {},
     "output_type": "execute_result"
    }
   ],
   "source": [
    "grid_params = {'max_depth':range(4,8),'min_samples_split':range(2,8,2),'learning_rate':np.arange(0.1,0.3)}\n",
    "\n",
    "clf = GridSearchCV(GradientBoostingRegressor(),param_grid=grid_params)\n",
    "clf.fit(x_train,y_train)"
   ]
  },
  {
   "cell_type": "code",
   "execution_count": 138,
   "id": "ad2f633c",
   "metadata": {},
   "outputs": [
    {
     "name": "stdout",
     "output_type": "stream",
     "text": [
      "{'learning_rate': 0.1, 'max_depth': 7, 'min_samples_split': 2}\n"
     ]
    }
   ],
   "source": [
    "print(clf.best_params_)"
   ]
  },
  {
   "cell_type": "code",
   "execution_count": 140,
   "id": "9c1a1820",
   "metadata": {},
   "outputs": [],
   "source": [
    "gbd = GradientBoostingRegressor(max_depth = 7, min_samples_split = 2, learning_rate = 0.1)"
   ]
  },
  {
   "cell_type": "code",
   "execution_count": 141,
   "id": "5f84d5ee",
   "metadata": {},
   "outputs": [
    {
     "data": {
      "text/plain": [
       "GradientBoostingRegressor(max_depth=7)"
      ]
     },
     "execution_count": 141,
     "metadata": {},
     "output_type": "execute_result"
    }
   ],
   "source": [
    "gbd.fit(x_train,y_train)"
   ]
  },
  {
   "cell_type": "code",
   "execution_count": 142,
   "id": "93643129",
   "metadata": {},
   "outputs": [],
   "source": [
    "y_preds = gbd.predict(x_test)"
   ]
  },
  {
   "cell_type": "code",
   "execution_count": 143,
   "id": "8c07581d",
   "metadata": {},
   "outputs": [
    {
     "name": "stdout",
     "output_type": "stream",
     "text": [
      "ACCURACY 0.9622841766492028\n"
     ]
    }
   ],
   "source": [
    "print(\"ACCURACY\",r2_score(y_test,y_preds))"
   ]
  },
  {
   "cell_type": "markdown",
   "id": "6f34b0dc",
   "metadata": {},
   "source": [
    "# Hence the accuracy is increased after the tuning, so or model is ready to predict the Price of the car with a accuracy of 96%"
   ]
  },
  {
   "cell_type": "code",
   "execution_count": 144,
   "id": "018f9989",
   "metadata": {},
   "outputs": [],
   "source": [
    "# saving the model for later prediction\n",
    "import pickle"
   ]
  },
  {
   "cell_type": "code",
   "execution_count": 145,
   "id": "2f07312b",
   "metadata": {},
   "outputs": [],
   "source": [
    "filename = 'Price of the car.pickle'\n",
    "pickle.dump(gbd,open(filename,'wb'))"
   ]
  },
  {
   "cell_type": "markdown",
   "id": "7d805ac0",
   "metadata": {},
   "source": [
    "# HENCE MY MODEL IS READY TO PREDICT"
   ]
  },
  {
   "cell_type": "code",
   "execution_count": null,
   "id": "a4e4a447",
   "metadata": {},
   "outputs": [],
   "source": []
  }
 ],
 "metadata": {
  "kernelspec": {
   "display_name": "Python 3 (ipykernel)",
   "language": "python",
   "name": "python3"
  },
  "language_info": {
   "codemirror_mode": {
    "name": "ipython",
    "version": 3
   },
   "file_extension": ".py",
   "mimetype": "text/x-python",
   "name": "python",
   "nbconvert_exporter": "python",
   "pygments_lexer": "ipython3",
   "version": "3.9.7"
  }
 },
 "nbformat": 4,
 "nbformat_minor": 5
}
